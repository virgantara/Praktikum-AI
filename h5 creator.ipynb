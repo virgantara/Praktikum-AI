{
 "cells": [
  {
   "cell_type": "code",
   "execution_count": 1,
   "id": "dce25dd1",
   "metadata": {},
   "outputs": [],
   "source": [
    "import os\n",
    "import numpy as np\n",
    "from tqdm import tqdm\n",
    "import os\n",
    "import cv2\n",
    "import h5py"
   ]
  },
  {
   "cell_type": "code",
   "execution_count": 7,
   "id": "bc0a7ab0",
   "metadata": {},
   "outputs": [],
   "source": [
    "path=[]\n",
    "dir_path = \"dataset/leaves\"\n",
    "images = []\n",
    "labels = []\n",
    "label_index = 0\n",
    "for subdir in sorted(os.listdir(dir_path)):\n",
    "    for f in sorted(os.listdir(os.path.join(dir_path, subdir))):\n",
    "        file_path = os.path.join(dir_path, subdir, f)\n",
    "        img = cv2.imread(file_path)\n",
    "        images.append(img)\n",
    "        labels.append(label_index)\n",
    "        \n",
    "    label_index += 1"
   ]
  },
  {
   "cell_type": "code",
   "execution_count": 10,
   "id": "4abd154b",
   "metadata": {},
   "outputs": [],
   "source": [
    "with h5py.File(\"dataset/leafdisease.h5\", \"w\") as f:\n",
    "    f.create_dataset(\"images\", data=np.asarray(images))\n",
    "    f.create_dataset(\"labels\", data=np.asarray(labels))\n"
   ]
  }
 ],
 "metadata": {
  "kernelspec": {
   "display_name": "Python 3 (ipykernel)",
   "language": "python",
   "name": "python3"
  },
  "language_info": {
   "codemirror_mode": {
    "name": "ipython",
    "version": 3
   },
   "file_extension": ".py",
   "mimetype": "text/x-python",
   "name": "python",
   "nbconvert_exporter": "python",
   "pygments_lexer": "ipython3",
   "version": "3.9.0"
  }
 },
 "nbformat": 4,
 "nbformat_minor": 5
}
