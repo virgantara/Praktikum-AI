{
 "cells": [
  {
   "cell_type": "markdown",
   "id": "16c02f42",
   "metadata": {},
   "source": [
    "# Pengenalan Pytorch untuk Klasifikasi\n",
    "Modul pengenalan PyTorch untuk klasifikasi bunga Iris merupakan langkah awal yang penting bagi mereka yang ingin memahami dasar-dasar pengembangan model machine learning menggunakan PyTorch. Pentingnya modul pengenalan PyTorch untuk klasifikasi bunga Iris menjadi semakin terasa karena langkah ini memberikan fondasi yang kokoh bagi individu yang ingin mengeksplorasi dan memahami konsep dasar dalam pengembangan model machine learning dengan menggunakan PyTorch. \n",
    "\n",
    "Dalam konteks ini, PyTorch bukan hanya menjadi alat pengembangan yang populer tetapi juga muncul sebagai framework yang sangat fleksibel dan kuat dalam mengimplementasikan model neural network. Melalui modul ini, para pembelajar dapat mengeksplorasi struktur dasar pengembangan model, mulai dari impor library dan pre-processing data hingga pembuatan, pelatihan, dan evaluasi model. Pemahaman terhadap klasifikasi bunga Iris sebagai studi kasus memberikan kejelasan mengenai bagaimana menerapkan konsep-konsep ini pada kasus nyata, sementara penggunaan PyTorch mempermudah proses implementasi dengan menyediakan alat yang intuitif dan dokumentasi yang baik. Dengan menguasai langkah-langkah dasar ini, para pengembang dan peneliti dapat memperoleh landasan yang kuat untuk kemudian menjelajahi dan mengembangkan model machine learning yang lebih kompleks dan spesifik. Kesempatan untuk mendalam ke dalam PyTorch memberikan pemahaman yang mendalam tentang prinsip-prinsip fundamental dalam machine learning, membantu para pembelajar meraih kepercayaan diri yang diperlukan dalam memecahkan tantangan di bidang ini.\n",
    "\n",
    "\n",
    "Berikut adalah penjelasan singkat tentang bagaimana modul tersebut dapat dibuat:\n",
    "\n",
    "#  Pendahuluan\n",
    "\n",
    "## Import Library\n",
    "\n",
    "Pertama-tama, langkah awal dalam pengembangan modul PyTorch adalah dengan mengimpor berbagai library esensial seperti PyTorch dan NumPy. Ini melibatkan pilihan library yang strategis untuk memfasilitasi manipulasi dan analisis data yang efektif. Dengan mengintegrasikan PyTorch dan NumPy, pengembang dapat memanfaatkan fitur-fitur kaya yang ditawarkan oleh kedua library tersebut, membentuk dasar yang kuat untuk pengolahan data selanjutnya dalam konteks pengembangan model machine learning."
   ]
  },
  {
   "cell_type": "code",
   "execution_count": 17,
   "id": "e5aaaaa4",
   "metadata": {},
   "outputs": [],
   "source": [
    "import torch\n",
    "from torch import nn\n",
    "\n",
    "from torchvision.transforms import ToTensor\n",
    "\n",
    "import pandas as pd\n",
    "import numpy as np\n"
   ]
  },
  {
   "cell_type": "markdown",
   "id": "6b840abc",
   "metadata": {},
   "source": [
    "## Load dataset\n",
    "\n",
    "Setelah memuat dataset Iris, langkah selanjutnya melibatkan proses pre-processing yang mencakup normalisasi data untuk memastikan konsistensi dan keberlanjutan dalam analisis. Selanjutnya, dataset perlu dibagi menjadi dua bagian utama, yaitu data latih dan data uji, untuk memungkinkan pengembangan model yang memadai dan evaluasi yang akurat terhadap kinerja model tersebut. Dengan melakukan pre-processing ini, kita menciptakan fondasi yang solid untuk melatih model machine learning dengan menggunakan dataset Iris, memastikan bahwa data telah diatur dengan baik untuk mendukung pengambilan keputusan yang optimal."
   ]
  },
  {
   "cell_type": "code",
   "execution_count": 18,
   "id": "0a3dbe48",
   "metadata": {},
   "outputs": [
    {
     "data": {
      "text/html": [
       "<div>\n",
       "<style scoped>\n",
       "    .dataframe tbody tr th:only-of-type {\n",
       "        vertical-align: middle;\n",
       "    }\n",
       "\n",
       "    .dataframe tbody tr th {\n",
       "        vertical-align: top;\n",
       "    }\n",
       "\n",
       "    .dataframe thead th {\n",
       "        text-align: right;\n",
       "    }\n",
       "</style>\n",
       "<table border=\"1\" class=\"dataframe\">\n",
       "  <thead>\n",
       "    <tr style=\"text-align: right;\">\n",
       "      <th></th>\n",
       "      <th>Id</th>\n",
       "      <th>SepalLengthCm</th>\n",
       "      <th>SepalWidthCm</th>\n",
       "      <th>PetalLengthCm</th>\n",
       "      <th>PetalWidthCm</th>\n",
       "      <th>Species</th>\n",
       "    </tr>\n",
       "  </thead>\n",
       "  <tbody>\n",
       "    <tr>\n",
       "      <th>0</th>\n",
       "      <td>1</td>\n",
       "      <td>5.1</td>\n",
       "      <td>3.5</td>\n",
       "      <td>1.4</td>\n",
       "      <td>0.2</td>\n",
       "      <td>Iris-setosa</td>\n",
       "    </tr>\n",
       "    <tr>\n",
       "      <th>1</th>\n",
       "      <td>2</td>\n",
       "      <td>4.9</td>\n",
       "      <td>3.0</td>\n",
       "      <td>1.4</td>\n",
       "      <td>0.2</td>\n",
       "      <td>Iris-setosa</td>\n",
       "    </tr>\n",
       "    <tr>\n",
       "      <th>2</th>\n",
       "      <td>3</td>\n",
       "      <td>4.7</td>\n",
       "      <td>3.2</td>\n",
       "      <td>1.3</td>\n",
       "      <td>0.2</td>\n",
       "      <td>Iris-setosa</td>\n",
       "    </tr>\n",
       "    <tr>\n",
       "      <th>3</th>\n",
       "      <td>4</td>\n",
       "      <td>4.6</td>\n",
       "      <td>3.1</td>\n",
       "      <td>1.5</td>\n",
       "      <td>0.2</td>\n",
       "      <td>Iris-setosa</td>\n",
       "    </tr>\n",
       "    <tr>\n",
       "      <th>4</th>\n",
       "      <td>5</td>\n",
       "      <td>5.0</td>\n",
       "      <td>3.6</td>\n",
       "      <td>1.4</td>\n",
       "      <td>0.2</td>\n",
       "      <td>Iris-setosa</td>\n",
       "    </tr>\n",
       "  </tbody>\n",
       "</table>\n",
       "</div>"
      ],
      "text/plain": [
       "   Id  SepalLengthCm  SepalWidthCm  PetalLengthCm  PetalWidthCm      Species\n",
       "0   1            5.1           3.5            1.4           0.2  Iris-setosa\n",
       "1   2            4.9           3.0            1.4           0.2  Iris-setosa\n",
       "2   3            4.7           3.2            1.3           0.2  Iris-setosa\n",
       "3   4            4.6           3.1            1.5           0.2  Iris-setosa\n",
       "4   5            5.0           3.6            1.4           0.2  Iris-setosa"
      ]
     },
     "execution_count": 18,
     "metadata": {},
     "output_type": "execute_result"
    }
   ],
   "source": [
    "df = pd.read_csv('dataset/Iris.csv')\n",
    "df.head()"
   ]
  },
  {
   "cell_type": "markdown",
   "id": "60faf52f",
   "metadata": {},
   "source": [
    "# Membuang atribut yang tidak perlu\n",
    "Di dataset Iris terdapat kolom yang tidak diperlukan, yaitu kolom Id. Kolom ini tidak mempengaruhi apapun terhadap output. Sehingga, kolom Id ini kita buang dengan cara:"
   ]
  },
  {
   "cell_type": "code",
   "execution_count": 19,
   "id": "4c0f4d8b",
   "metadata": {},
   "outputs": [],
   "source": [
    "df.drop(['Id'],axis=1,inplace=True)"
   ]
  },
  {
   "cell_type": "markdown",
   "id": "b2dfa64f",
   "metadata": {},
   "source": [
    "# Memetakan Variabel Dependen dan Independen\n",
    "\n",
    "Dari dataset Iris, kita pisahkan mana variabel bebas (independen) dan terikat (dependen). Variabel bebas adalah variabel yang nilainya berdiri sendiri dan tidak dipengaruhi oleh variabel lain. Pada kasus klasifikasi jenis bunga Iris, variabel bebasnya adalah SepalLength, SepalWidth, PetalLength, dan PelalWidth. Sedangkan variabel dependen adalah variabel yang nilainya dipengaruhi oleh variabel lain. Dikarenakan jenis-jenis bunga Iris ditentukan oleh ukurang Sepal dan Petal, maka variabel dependennya adalah kolom Species. Kita bisa memetakan semua variabel independen dengan:\n",
    "```python\n",
    "X = df.drop([\"Species\"],axis=1).values\n",
    "```\n",
    "\n",
    "sedangkan variabel dependen bisa dipetakan dengan cara:\n",
    "```python\n",
    "y = df['Species'].values\n",
    "```"
   ]
  },
  {
   "cell_type": "code",
   "execution_count": 20,
   "id": "9212239b",
   "metadata": {},
   "outputs": [],
   "source": [
    "X = df.drop([\"Species\"],axis=1).values\n",
    "y = df['Species'].values"
   ]
  },
  {
   "cell_type": "markdown",
   "id": "4ad01d44",
   "metadata": {},
   "source": [
    "Notasi $X$ di sini menggunakan notasi $X$ besar karena variabel $X$ mencerminkan bentuk sebuah matriks yang terdiri atas sekian baris dan sekian kolom. Sedangkan variabel $y$ direpresentasikan dengan variabel $y$ kecil karena hanya mencerminkan sebagai sebuah vektor (matriks 1 dimensi). Ukuran $X$ adalah $n x 4$ di mana $n$ adalah jumlah total data sedangkan $4$ adalah jumlah total variabel independen. Untuk mengetahui ukuran asli dari kedua variabel, kita bisa menampilkannya dengan perintah\n",
    "```python\n",
    "print(X.shape, y.shape)\n",
    "```"
   ]
  },
  {
   "cell_type": "code",
   "execution_count": 21,
   "id": "b16a9bfc",
   "metadata": {},
   "outputs": [
    {
     "name": "stdout",
     "output_type": "stream",
     "text": [
      "(150, 4) (150,)\n"
     ]
    }
   ],
   "source": [
    "print(X.shape, y.shape)"
   ]
  },
  {
   "cell_type": "markdown",
   "id": "729dab54",
   "metadata": {},
   "source": [
    "# Label Encoding\n",
    "\n",
    "Label Encoding (LE) merupakan proses yang sangat penting. LE berfungsi mengubah bentuk data terutama kategorical menjadi bentuk label integer. Sebagai contoh, nilai dari kolom Species berisi dengan tulisan $Iris-setosa,Iris-versicolor,Iris-virginica$. Ketiga kelas ini bisa dipetakan menjadi $Iris-setosa = 0, Iris-versicolor=1, Iris-virginica=2$. Berikut adalah contoh kode untuk label encoding:\n",
    "```python\n",
    "from sklearn.preprocessing import LabelEncoder\n",
    "le = LabelEncoder()\n",
    "y = le.fit_transform(y)\n",
    "```"
   ]
  },
  {
   "cell_type": "code",
   "execution_count": 22,
   "id": "1cbc8092",
   "metadata": {},
   "outputs": [],
   "source": [
    "from sklearn.preprocessing import LabelEncoder\n",
    "le = LabelEncoder()\n",
    "y = le.fit_transform(y)"
   ]
  },
  {
   "cell_type": "markdown",
   "id": "a863d896",
   "metadata": {},
   "source": [
    "# Data Scaling dan Data Preparation\n",
    "\n",
    "Load dataset Iris dan lakukan pre-processing seperti normalisasi data dan pembagian dataset menjadi data latih dan data uji.\n",
    "\n",
    "## Data Splitting"
   ]
  },
  {
   "cell_type": "code",
   "execution_count": 23,
   "id": "bac528db",
   "metadata": {},
   "outputs": [],
   "source": [
    "from sklearn.preprocessing import StandardScaler\n",
    "from sklearn.model_selection import train_test_split\n",
    "\n",
    "X_train, X_test, y_train, y_test = train_test_split(X, y, test_size=0.3, random_state=40)"
   ]
  },
  {
   "cell_type": "markdown",
   "id": "e95f9acf",
   "metadata": {},
   "source": [
    "## Data Scaling"
   ]
  },
  {
   "cell_type": "code",
   "execution_count": 24,
   "id": "216def6f",
   "metadata": {},
   "outputs": [],
   "source": [
    "scaler = StandardScaler()\n",
    "X_train = scaler.fit_transform(X_train)\n",
    "X_test = scaler.transform(X_test)"
   ]
  },
  {
   "cell_type": "code",
   "execution_count": 25,
   "id": "6bdfa887",
   "metadata": {},
   "outputs": [],
   "source": [
    "X_train = torch.FloatTensor(X_train)\n",
    "X_test = torch.FloatTensor(X_test)\n",
    "y_train = torch.LongTensor(y_train)\n",
    "y_test = torch.LongTensor(y_test)"
   ]
  },
  {
   "cell_type": "markdown",
   "id": "d1dbeffc",
   "metadata": {},
   "source": [
    "# Pembuatan Model\n",
    "\n",
    "Tentukan arsitektur model neural network yang akan digunakan. Dalam kasus ini, kita dapat menggunakan model sederhana dengan beberapa layer linear (fully connected) dan fungsi aktivasi. Di sini, kita membuat sebuah arsitektur neural network dengan 3 layer, layer input, layer hidden, dan layer output.\n",
    "\n",
    "Layer input memiliki input dengan ukuran 4 dikarenakan ada 4 fitur (variabel independen) yang digunakan dengan output yang bisa kita tentukan sendiri ukurannya. Di sini, output dari layer input kita beri nilai 128, yang artinya terdapat 128 node pada layer ini. Sedangkan inputan pada layer hidden adalah output dari layer input, yaitu 128 dengan output 64 node. Pada layer output, inputnya adalah 64 node dengan output 3 node. 3 node ini adalah 3 jenis bunga yang diklasifikasikan. Pada tiap node, diaktivasi dengan fungsi aktivasi Rectified Linear Unit (ReLU).\n",
    "\n",
    "Secara umum, struktur class dari framework pytorch terdiri atas dua fungsi, yaitu fungsi ``` __init__()``` dan fungsi ```forward()```. Fungsi ```__init__()``` adalah constructor yang pertama kali dieksekusi oleh program. Di dalam fungsi ini biasanya hanya berisi tahap inisialisasi. Sedangkan fungsi ```forward()``` adalah fungsi yang akan dieksekusi setiap kali model dipanggil. Di fungsi ini, proses feedforward dari neural network terjadi."
   ]
  },
  {
   "cell_type": "code",
   "execution_count": 26,
   "id": "c8ca2caa",
   "metadata": {},
   "outputs": [],
   "source": [
    "class NeuralNetwork(nn.Module):\n",
    "    def __init__(self, input_dim, num_classes):\n",
    "        super(NeuralNetwork, self).__init__()\n",
    "        self.input_layer = nn.Linear(input_dim, 128)\n",
    "        self.hidden_layer = nn.Linear(128,64)\n",
    "        self.output_layer = nn.Linear(64, num_classes)\n",
    "        self.relu = nn.ReLU()\n",
    "    \n",
    "    def forward(self, x):\n",
    "        x = self.relu(self.input_layer(x))\n",
    "        x = self.relu(self.hidden_layer(x))\n",
    "        x = self.relu(self.output_layer(x))\n",
    "        return x\n",
    "        "
   ]
  },
  {
   "cell_type": "markdown",
   "id": "254f06a5",
   "metadata": {},
   "source": [
    "# Inisialisasi Model dan Optimizer\n",
    "Inisialisasikan model yang telah dibuat beserta optimizer yang akan digunakan untuk melatih model, misalnya, menggunakan stochastic gradient descent (SGD)."
   ]
  },
  {
   "cell_type": "code",
   "execution_count": 27,
   "id": "f8fb48e4",
   "metadata": {},
   "outputs": [],
   "source": [
    "input_dim = 4\n",
    "num_classes = 3\n",
    "\n",
    "model = NeuralNetwork(input_dim=input_dim, num_classes=num_classes)\n",
    "learning_rate = 0.1\n",
    "criterion = nn.CrossEntropyLoss()\n",
    "optimizer = torch.optim.SGD(model.parameters(), lr=learning_rate)"
   ]
  },
  {
   "cell_type": "markdown",
   "id": "f99f59b0",
   "metadata": {},
   "source": [
    "# Pelatihan Model\n",
    "\n",
    "Lakukan iterasi melalui data latih untuk melatih model. Hitung loss, lakukan backpropagation, dan optimalkan parameter model."
   ]
  },
  {
   "cell_type": "code",
   "execution_count": 28,
   "id": "47a51e5a",
   "metadata": {},
   "outputs": [
    {
     "name": "stdout",
     "output_type": "stream",
     "text": [
      "Epoch 100/1500, Train Loss: 0.1332, Test Loss: 0.0945\n",
      "Epoch 200/1500, Train Loss: 0.0693, Test Loss: 0.0452\n",
      "Epoch 300/1500, Train Loss: 0.0550, Test Loss: 0.0344\n",
      "Epoch 400/1500, Train Loss: 0.0477, Test Loss: 0.0295\n",
      "Epoch 500/1500, Train Loss: 0.0426, Test Loss: 0.0264\n",
      "Epoch 600/1500, Train Loss: 0.0390, Test Loss: 0.0245\n",
      "Epoch 700/1500, Train Loss: 0.0360, Test Loss: 0.0232\n",
      "Epoch 800/1500, Train Loss: 0.0334, Test Loss: 0.0222\n",
      "Epoch 900/1500, Train Loss: 0.0310, Test Loss: 0.0215\n",
      "Epoch 1000/1500, Train Loss: 0.0286, Test Loss: 0.0209\n",
      "Epoch 1100/1500, Train Loss: 0.0262, Test Loss: 0.0202\n",
      "Epoch 1200/1500, Train Loss: 0.0239, Test Loss: 0.0195\n",
      "Epoch 1300/1500, Train Loss: 0.0216, Test Loss: 0.0188\n",
      "Epoch 1400/1500, Train Loss: 0.0196, Test Loss: 0.0182\n",
      "Epoch 1500/1500, Train Loss: 0.0177, Test Loss: 0.0177\n"
     ]
    }
   ],
   "source": [
    "num_epochs = 1500\n",
    "\n",
    "train_losses = []\n",
    "test_losses = []\n",
    "for epoch in range(num_epochs):\n",
    "    optimizer.zero_grad()\n",
    "    \n",
    "    # tahapan feedforward\n",
    "    output = model(X_train)\n",
    "    train_loss = criterion(output, y_train)\n",
    "    \n",
    "    # tahapan backpropagation\n",
    "    train_loss.backward()\n",
    "    optimizer.step()\n",
    "    \n",
    "    # mengevaluasi model hasil training pada data testing\n",
    "    output_tes = model(X_test)\n",
    "    test_loss = criterion(output_tes, y_test)\n",
    "    \n",
    "    # menampung semua output loss \n",
    "    train_losses.append(train_loss.item())\n",
    "    test_losses.append(test_loss.item())\n",
    "\n",
    "    if (epoch + 1) % 100 == 0:\n",
    "        print(f\"Epoch {epoch+1}/{num_epochs}, Train Loss: {train_loss.item():.4f}, Test Loss: {test_loss.item():.4f}\")"
   ]
  },
  {
   "cell_type": "markdown",
   "id": "b306045c",
   "metadata": {},
   "source": [
    "# Visualisasi Output\n",
    "Hasil output berupa loss disajikan dalam bentuk grafik untuk melihat apakah model sudah konvergen apa belum. "
   ]
  },
  {
   "cell_type": "code",
   "execution_count": 29,
   "id": "77b0bbd9",
   "metadata": {},
   "outputs": [
    {
     "data": {
      "image/png": "[encoded data removed]",
      "text/plain": [
       "<Figure size 1000x1000 with 1 Axes>"
      ]
     },
     "metadata": {},
     "output_type": "display_data"
    }
   ],
   "source": [
    "import matplotlib.pyplot as plt\n",
    "plt.figure(figsize=(10,10))\n",
    "plt.plot(train_losses, label='train loss')\n",
    "plt.plot(test_losses, label='test loss')\n",
    "plt.legend()\n",
    "plt.show()"
   ]
  },
  {
   "cell_type": "markdown",
   "id": "64932496",
   "metadata": {},
   "source": [
    "# Evaluasi Model\n",
    "Setelah melalui proses pelatihan yang cermat, langkah berikutnya adalah mengimplementasikan model untuk melakukan prediksi pada data uji, menguji kemampuannya dalam menggeneralisasi informasi yang telah dipelajari selama pelatihan. Evaluasi performa model kemudian dilakukan dengan membandingkan hasil prediksi dengan nilai sebenarnya dalam data uji, memungkinkan penilaian objektif terhadap sejauh mana model dapat memahami dan merespons pada pola yang ada dalam dataset yang tidak pernah dilihat sebelumnya. Proses evaluasi ini penting untuk memvalidasi kehandalan model dan memberikan wawasan kritis bagi pengembang atau peneliti untuk meningkatkan performa dan generalisasi model ke situasi dunia nyata."
   ]
  },
  {
   "cell_type": "code",
   "execution_count": 30,
   "id": "50d271f3",
   "metadata": {},
   "outputs": [],
   "source": [
    "predict_out = model(X_test)\n",
    "_, y_pred = torch.max(predict_out, 1)"
   ]
  },
  {
   "cell_type": "code",
   "execution_count": 31,
   "id": "d8c43f8f",
   "metadata": {},
   "outputs": [
    {
     "name": "stdout",
     "output_type": "stream",
     "text": [
      "prediction accuracy 1.0\n",
      "macro precision 1.0\n",
      "micro precision 1.0\n",
      "macro recall 1.0\n",
      "micro recall 1.0\n"
     ]
    }
   ],
   "source": [
    "from sklearn.metrics import accuracy_score, precision_score, recall_score\n",
    "print('prediction accuracy', accuracy_score(y_test.data, y_pred.data))\n",
    "\n",
    "print( 'macro precision', precision_score(y_test.data, y_pred.data, average='macro'))\n",
    "print('micro precision', precision_score(y_test.data, y_pred.data, average='micro'))\n",
    "print('macro recall', recall_score(y_test.data, y_pred.data, average='macro'))\n",
    "print('micro recall', recall_score(y_test.data, y_pred.data, average='micro'))"
   ]
  },
  {
   "cell_type": "markdown",
   "id": "5f40d3ce",
   "metadata": {},
   "source": [
    "# Confusion Matrix\n",
    "Confusion Matrix adalah tabel yang digunakan dalam bidang pembelajaran mesin dan klasifikasi untuk mengevaluasi kinerja model. Dalam konteks klasifikasi bunga Iris, yang melibatkan prediksi spesies bunga iris berdasarkan fitur-fitur tertentu, matriks kebingungan memberikan gambaran umum yang komprehensif tentang prediksi model dibandingkan dengan label kelas yang sebenarnya.\n",
    "\n",
    "Mari kita uraikan komponen-komponen utama dari matriks kebingungan untuk klasifikasi bunga Iris:\n",
    "\n",
    "1. True Positif (TP): Ini menunjukkan jumlah contoh di mana model memprediksi kelas positif dengan benar (mengidentifikasi spesies iris dengan benar).\n",
    "\n",
    "1. True Negative (TN): Jumlah contoh di mana model memprediksi kelas negatif dengan benar (contoh yang diidentifikasi dengan benar yang tidak termasuk dalam spesies iris yang diprediksi).\n",
    "\n",
    "1. False Positive (FP): Ini mengacu pada kasus-kasus di mana model salah memprediksi kelas positif (memprediksi spesies iris, tetapi bukan spesies yang benar).\n",
    "\n",
    "1. False Negative (FN): Jumlah kasus di mana model salah memprediksi kelas negatif (gagal mengidentifikasi spesies iris yang benar)."
   ]
  },
  {
   "cell_type": "code",
   "execution_count": 32,
   "id": "51b22d4c",
   "metadata": {},
   "outputs": [
    {
     "data": {
      "text/plain": [
       "<AxesSubplot:>"
      ]
     },
     "execution_count": 32,
     "metadata": {},
     "output_type": "execute_result"
    },
    {
     "data": {
      "image/png": "[encoded data removed]",
      "text/plain": [
       "<Figure size 640x480 with 2 Axes>"
      ]
     },
     "metadata": {},
     "output_type": "display_data"
    }
   ],
   "source": [
    "from sklearn.metrics import confusion_matrix\n",
    "import seaborn as sns\n",
    "\n",
    "categories = ['Iris-setosa','Iris-versicolor','Iris-virginica']\n",
    "cm = confusion_matrix(y_test, y_pred)\n",
    "sns.heatmap(cm, annot=True,xticklabels=categories,yticklabels=categories)"
   ]
  },
  {
   "cell_type": "markdown",
   "id": "d9afe2e8",
   "metadata": {},
   "source": [
    "Berikut ini interpretasi singkat dari elemen-elemen matriks dalam konteks klasifikasi bunga Iris:\n",
    "\n",
    "1. Elemen Diagonal (TP): Ini adalah prediksi yang benar, di mana model secara akurat mengidentifikasi spesies bunga iris.\n",
    "\n",
    "1. Elemen di luar diagonal (FP dan FN): Ini mewakili kesalahan yang dibuat oleh model dalam memprediksi spesies iris.\n",
    "\n",
    "Mengevaluasi metrik kinerja seperti presisi, recall, dan skor F1 dapat diturunkan dari Confusion Matrix untuk memberikan pemahaman yang lebih rinci tentang seberapa baik kinerja model dalam hal False Positive dan False Negative, yang merupakan pertimbangan penting dalam tugas klasifikasi.\n",
    "\n",
    "# Post-Test\n",
    "\n",
    "1. Eksplorasi penerapan jaringan saraf, seperti multi-layer perceptron (MLP), dalam klasifikasi bunga Iris. Bagaimana jaringan saraf dibandingkan dengan algoritma klasifikasi tradisional dalam menangani kompleksitas dataset Iris?\n",
    "\n",
    "1. Diskusikan pertimbangan desain untuk arsitektur jaringan syaraf tiruan ketika diterapkan pada klasifikasi bunga Iris. Bagaimana faktor-faktor seperti jumlah hidden layer dan neuron (node) berdampak pada kinerja model jaringan syaraf tiruan?\n",
    "\n",
    "1. Diskusikan tren masa depan bagaimana teknologi atau metodologi yang muncul dapat memengaruhi cara para peneliti mendekati dan memecahkan masalah klasifikasi yang mirip dengan dataset Iris?"
   ]
  }
 ],
 "metadata": {
  "kernelspec": {
   "display_name": "Python 3 (ipykernel)",
   "language": "python",
   "name": "python3"
  },
  "language_info": {
   "codemirror_mode": {
    "name": "ipython",
    "version": 3
   },
   "file_extension": ".py",
   "mimetype": "text/x-python",
   "name": "python",
   "nbconvert_exporter": "python",
   "pygments_lexer": "ipython3",
   "version": "3.9.0"
  }
 },
 "nbformat": 4,
 "nbformat_minor": 5
}
