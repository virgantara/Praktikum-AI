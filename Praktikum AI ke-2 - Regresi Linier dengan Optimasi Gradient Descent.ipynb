{
 "cells": [
  {
   "cell_type": "markdown",
   "id": "663cd9db",
   "metadata": {},
   "source": [
    "# Regresi Linier\n",
    "\n",
    "## Definisi Regresi Linier\n",
    "\n",
    "Regresi linier adalah metode statistik yang memodelkan hubungan antara variabel bebas dan terikat dengan mencari pola garis lurus yang paling optimal dari data observasi. Salah satu metode yang paling umum digunakan adalah dengan mencari nilai minimum dari jumlah akar kuadrat dari residu. Residu yang dimaksud adalah selisih varibel terikat dari nilai yang diprediksi dengan nilai observasi.\n",
    "\n",
    "Dengan menggunakan kasus pada Praktikum 1 materi Kecerdasan Buatan, kita akan menyelesaikan masalah regresi dengan pendekatan optimasi gradient descent."
   ]
  },
  {
   "cell_type": "code",
   "execution_count": 15,
   "id": "e043a8f8",
   "metadata": {},
   "outputs": [],
   "source": [
    "import numpy as np\n",
    "import matplotlib.pyplot as plt\n",
    "import pandas as pd"
   ]
  },
  {
   "cell_type": "markdown",
   "id": "52888522",
   "metadata": {},
   "source": [
    "## Load dataset\n",
    "\n",
    "Untuk tahapan awal, kita load dataset terlebih dahulu."
   ]
  },
  {
   "cell_type": "code",
   "execution_count": 16,
   "id": "8ddf6c6d",
   "metadata": {},
   "outputs": [],
   "source": [
    "df = pd.read_csv(\"dataset/Salary_dataset.csv\")"
   ]
  },
  {
   "cell_type": "markdown",
   "id": "bbe35579",
   "metadata": {},
   "source": [
    "## Regresi Linier dengan satu variabel\n",
    "\n",
    "Pada kasus ini, kita hanya menggunakan satu variabel bebas, yaitu variabel YearsExperience. Sedangkan variabel terikatnya adalah Salary. Maka, kita hilangkan kolom Unnamed terlebih dahulu."
   ]
  },
  {
   "cell_type": "code",
   "execution_count": 17,
   "id": "ede47c21",
   "metadata": {},
   "outputs": [],
   "source": [
    "df.drop(['Unnamed: 0'],axis=1,inplace=True)"
   ]
  },
  {
   "cell_type": "markdown",
   "id": "9c830191",
   "metadata": {},
   "source": [
    "Untuk selanjutnya, variabel bebas kita sebut sebagai ```x```, sedangkan variabel terikat sebagai ```y```. Maka, kita memiliki:"
   ]
  },
  {
   "cell_type": "code",
   "execution_count": 18,
   "id": "115732f8",
   "metadata": {},
   "outputs": [],
   "source": [
    "x = df.YearsExperience\n",
    "y = df.Salary\n"
   ]
  },
  {
   "cell_type": "markdown",
   "id": "376f7ac5",
   "metadata": {},
   "source": [
    "## Data Scaling\n",
    "Di sini, data x dan y juga kita lakukan scaling dengan teknik MinMax. "
   ]
  },
  {
   "cell_type": "code",
   "execution_count": 19,
   "id": "19f657e1",
   "metadata": {},
   "outputs": [],
   "source": [
    "\n",
    "def scale(X):\n",
    "    X_std = (X - min(X)) / (max(X) - min(X))\n",
    "    return X_std\n",
    "\n"
   ]
  },
  {
   "cell_type": "markdown",
   "id": "ed687cdf",
   "metadata": {},
   "source": [
    "Dengan scaling, nilai awal x dan y diubah menjadi bentuk yang standar antara 0 hingga 1."
   ]
  },
  {
   "cell_type": "code",
   "execution_count": 20,
   "id": "c12d8111",
   "metadata": {},
   "outputs": [],
   "source": [
    "x_scaled = scale(x)\n",
    "y_scaled = scale(y)\n"
   ]
  },
  {
   "cell_type": "markdown",
   "id": "46272c82",
   "metadata": {},
   "source": [
    "Setelah kita scaling, nilai x dan y kita plot ke bidang 2 dimensi"
   ]
  },
  {
   "cell_type": "code",
   "execution_count": 21,
   "id": "de73dfdc",
   "metadata": {},
   "outputs": [
    {
     "data": {
      "image/png": "[encoded data removed]",
      "text/plain": [
       "<Figure size 640x480 with 1 Axes>"
      ]
     },
     "metadata": {},
     "output_type": "display_data"
    }
   ],
   "source": [
    "plt.scatter(x_scaled,y_scaled,color=\"g\",marker=\"*\")\n",
    "plt.xlabel(\"Years of Experience\")\n",
    "plt.ylabel(\"Salary\")\n",
    "plt.title(\"\")\n",
    "plt.show()"
   ]
  },
  {
   "cell_type": "markdown",
   "id": "c61213fe",
   "metadata": {},
   "source": [
    "Untuk memudahkan dalam proses pelatihan, variabel bebas dan terikat dijadikan satu menjadi sebuah matrik."
   ]
  },
  {
   "cell_type": "code",
   "execution_count": 22,
   "id": "4446dd31",
   "metadata": {},
   "outputs": [
    {
     "name": "stdout",
     "output_type": "stream",
     "text": [
      "(30, 2)\n"
     ]
    }
   ],
   "source": [
    "dataset = np.array([x_scaled, y_scaled]).T\n",
    "print(dataset.shape)"
   ]
  },
  {
   "cell_type": "markdown",
   "id": "d7cbc69e",
   "metadata": {},
   "source": [
    "## Data Training\n",
    "\n",
    "Data training atau pelatihan data digunakan untuk mencari nilai optimal dari suatu parameter model. Untuk kasus ini, kita menggunakan optimasi gradient descent (GD). GD digunakan untuk mencari nilai Sum of Squarred Residual (SSR) terkecil dari masing-masing koefisien. \n",
    "\n",
    "Model dasar dari persamaan regresi linier adalah\n",
    "```\n",
    "y = mx + c\n",
    "```\n",
    "Dengan model ini, kita sudah memiliki $x$ dan $y$. Sedangkan nilai $m$ dan $c$ belum diketahui. Kita bisa mencari nilai $m$ dan $c$ dengan pendekatan gradient descent.\n",
    "\n",
    "Untuk mencari nilai optimal dari $m$ dan $c$ dengan cara menghitung nilai $SSR$ dulu, yaitu:\n",
    "\\begin{equation}\n",
    "SSR = \\sum_{x = 1}^{n} (y_it - y_ip)^2\n",
    "\\end{equation}\n",
    "di mana $y_p = mx + c$\n",
    "sehingga:\n",
    "\\begin{equation}\n",
    "SSR = \\sum_{x = 1}^{n} (y_it - (mx_i + c)^2\n",
    "\\end{equation}\n",
    "maka, kita bisa menghitung nilai $m$ dengan:\n",
    "\\begin{equation}\n",
    "\\frac{\\partial SSR}{\\partial m} = -2 \\sum_{x = 1}^{n} x_i (y_it - mx_i - c)\n",
    "\\end{equation}\n",
    "\n",
    "dan nilai $c$ dengan:\n",
    "\\begin{equation}\n",
    "\\frac{\\partial SSR}{\\partial c} = -2 \\sum_{x = 1}^{n} (y_it - mx_i - c)\n",
    "\\end{equation}"
   ]
  },
  {
   "cell_type": "markdown",
   "id": "55dda753",
   "metadata": {},
   "source": [
    "Tidak perlu khawatir dengan kerumitan persamaan di atas. Di sini, akan kita bedah satu per satu.\n",
    "$\\frac{\\partial SSR}{\\partial m}$ bisa direpresentasikan dengan kode python berikut:\n",
    "```python\n",
    "sum_dSSR_dm = 0\n",
    "\n",
    "for titik in dataset:\n",
    "    x = titik[0]\n",
    "    yt = titik[1]\n",
    "\n",
    "    dSSR_dm = -2 * x * (yt - m * x - c)\n",
    "\n",
    "    sum_dSSR_dm += dSSR_dm\n",
    "```\n",
    "\n",
    "sedangkan $\\frac{\\partial SSR}{\\partial c}$ bisa direpresentasikan dengan kode python berikut:\n",
    "```python\n",
    "sum_dSSR_dc = 0\n",
    "\n",
    "for titik in dataset:\n",
    "    x = titik[0]\n",
    "    yt = titik[1]\n",
    "\n",
    "    dSSR_dc = -2 * (yt - m * x - c)\n",
    "\n",
    "    sum_dSSR_dc += dSSR_dc\n",
    "```\n",
    "\n",
    "nilai akhir dari masing-masing $\\frac{\\partial SSR}{\\partial m}$ dan $\\frac{\\partial SSR}{\\partial c}$ digunakan untuk mengupdate nilai $m$ dan $c$. Adapun proses update ini menggunakan teknik gradient descent sebagai berikut:\n",
    "\\begin{equation}\n",
    "\\theta_i = \\theta_i - \\mu \\frac{\\partial}{\\partial \\theta_i}  J(\\theta)\n",
    "\\end{equation}\n",
    "di mana $\\theta$ adalah parameter yang akan diupdate, $\\mu$ adalah learning rate. Apabila diterjemahkan ke kode python, maka menjadi seperti berikut:\n",
    "\n",
    "\n",
    "A. Update nilai $m$\n",
    "```python\n",
    "learning_rate = 0.01\n",
    "m = 0\n",
    "\n",
    "for i in range(0, NUM_OF_EPOCH):\n",
    "    ...\n",
    "    step_size = sum_dSSR_dm * learning_rate\n",
    "    m = m - step_size\n",
    "```\n",
    "\n",
    "B. Update nilai $c$\n",
    "```python\n",
    "learning_rate = 0.01\n",
    "c = 0\n",
    "for i in range(0, NUM_OF_EPOCH):\n",
    "    ...\n",
    "    step_size = sum_dSSR_dc * learning_rate\n",
    "    c = c - step_size\n",
    "```\n",
    "\n",
    "Apabila digabungkan semua, maka seluruh fungsi train adalah sebagai berikut:"
   ]
  },
  {
   "cell_type": "code",
   "execution_count": 23,
   "id": "ef566a5c",
   "metadata": {},
   "outputs": [],
   "source": [
    "\n",
    "def train(dataset, epochs=1000):\n",
    "    NUM_OF_EPOCH = epochs\n",
    "\n",
    "    m = np.random.randint(0, 100)\n",
    "    c = np.random.randint(0, 100)\n",
    "\n",
    "    learning_rate = 0.01\n",
    "    print(\"m awal: \", m)\n",
    "    print(\"c awal: \", c)\n",
    "    \n",
    "    \n",
    "    \n",
    "    for i in range(0, NUM_OF_EPOCH):\n",
    "        # SSR terhadap c\n",
    "        # SSR terhadap m\n",
    "\n",
    "        sum_dSSR_dc = 0\n",
    "        sum_dSSR_dm = 0\n",
    "\n",
    "        for titik in dataset:\n",
    "            x = titik[0]\n",
    "            yt = titik[1]\n",
    "            \n",
    "            \n",
    "            dSSR_dc = -2 * (yt - m * x - c)\n",
    "            dSSR_dm = -2 * x * (yt - m * x - c)\n",
    "\n",
    "            sum_dSSR_dc += dSSR_dc\n",
    "            sum_dSSR_dm += dSSR_dm\n",
    "\n",
    "\n",
    "        ## update nilai c dan m berdasarkan learning rate/laju dan sum_dSSR_dc dan sum_dSSR_dm\n",
    "        step_size = sum_dSSR_dc * learning_rate\n",
    "        c = c - step_size\n",
    "\n",
    "        step_size = sum_dSSR_dm * learning_rate\n",
    "        m = m - step_size\n",
    "\n",
    "#         print(\"update ke \", i, \" untuk m adalah \",m)\n",
    "#         print(\"update ke \", i, \" untuk c adalah \",c)\n",
    "\n",
    "    # y = mx + c\n",
    "\n",
    "    print(\"m optimal/akhir: \", m)\n",
    "    print(\"c optimal/akhir: \", c)\n",
    "    \n",
    "    return m, c\n",
    "\n",
    "    \n",
    "    "
   ]
  },
  {
   "cell_type": "markdown",
   "id": "50c7428a",
   "metadata": {},
   "source": [
    "## Proses data latih untuk mencari nilai $m$ dan $c$ yang optimal"
   ]
  },
  {
   "cell_type": "code",
   "execution_count": 24,
   "id": "76e60a1c",
   "metadata": {},
   "outputs": [
    {
     "name": "stdout",
     "output_type": "stream",
     "text": [
      "m awal:  46\n",
      "c awal:  97\n",
      "m optimal/akhir:  1.0492516633791347\n",
      "c optimal/akhir:  -0.018235781333931552\n"
     ]
    }
   ],
   "source": [
    "m, c = train(dataset)"
   ]
  },
  {
   "cell_type": "markdown",
   "id": "9b23678c",
   "metadata": {},
   "source": [
    "## Hasil dari nilai $m$ dan $c$ yang optimal\n",
    "\n",
    "Berikut ini adalah hasil akhir dari model regresi linier. Dengan model ini, kita bisa memprediksi dengan data diluar data observasi."
   ]
  },
  {
   "cell_type": "code",
   "execution_count": 25,
   "id": "e29e602d",
   "metadata": {},
   "outputs": [
    {
     "name": "stdout",
     "output_type": "stream",
     "text": [
      "y =  1.0492516633791347 x +  -0.018235781333931552\n"
     ]
    }
   ],
   "source": [
    "print(\"y = \",m,\"x + \",c)"
   ]
  },
  {
   "cell_type": "markdown",
   "id": "f8c8ee0e",
   "metadata": {},
   "source": [
    "## Visualisasi Persamaan Regresi Linier"
   ]
  },
  {
   "cell_type": "code",
   "execution_count": 26,
   "id": "7848923a",
   "metadata": {},
   "outputs": [
    {
     "data": {
      "image/png": "[encoded data removed]",
      "text/plain": [
       "<Figure size 640x480 with 1 Axes>"
      ]
     },
     "metadata": {},
     "output_type": "display_data"
    }
   ],
   "source": [
    "x1 = 0\n",
    "y1 = m * x1 +  c\n",
    "\n",
    "x2 = 1\n",
    "y2 = m * x2 +  c\n",
    "\n",
    "x = np.array([x1, x2])\n",
    "y = np.array([y1, y2])\n",
    "# print(y1)\n",
    "# print(x, y)\n",
    "plt.scatter(dataset[:,0], dataset[:,1])\n",
    "plt.plot(x, y, color='r')\n",
    "plt.show()"
   ]
  },
  {
   "cell_type": "markdown",
   "id": "fd074e37",
   "metadata": {},
   "source": [
    "# Mengukur tingkat performa regresi\n",
    "\n",
    "Pengukuran performa dari regresi merupakan langkah yang penting untuk mengetahui seberapa bagus model yang dikembangkan sesuai dengan data dan dalam memprediksi. \n",
    "\n",
    "Di sini, kita akan mengukur performa regresi dengan koefisien determinasi $R^2$. Dalam konteks regresi, ini adalah pengukuran dalam statistik tentang seberapa baik garis regresi mendekati data aktual. Oleh karena itu, hal ini penting ketika model statistik digunakan untuk memprediksi hasil di masa depan atau untuk pengujian hipotesis.\n",
    "\n",
    "$R^2$ dihitung dengan persamaan:\n",
    "\\begin{equation}\n",
    "R^2 = 1 - \\frac{SSR}{SST}\n",
    "\\end{equation}\n",
    "di mana $SSR$ adalah Sum of Squarred Residuals dan $SST$ adalah Sum of Total. SST dihitung dengan:\n",
    "\\begin{equation}\n",
    "SST = \\sum_{i=1}^{n} (y_it - \\overline{yt})^2\n",
    "\\end{equation}\n",
    "\n",
    "Berikut adalah contoh kode untuk menghitung nilai $R^2$ dari model regresi yang sudah dilatih"
   ]
  },
  {
   "cell_type": "code",
   "execution_count": 27,
   "id": "84644782",
   "metadata": {},
   "outputs": [
    {
     "name": "stdout",
     "output_type": "stream",
     "text": [
      "R Square:  0.9569566641435086\n"
     ]
    }
   ],
   "source": [
    "y_mean = np.mean(y_scaled)\n",
    "sum_ssr = 0\n",
    "sum_sst = 0\n",
    "for titik in dataset:\n",
    "    x = titik[0]\n",
    "    yt = titik[1]\n",
    "    \n",
    "    yp = (m * x + c)\n",
    "    \n",
    "    ssr = np.square(yt - yp)\n",
    "    \n",
    "    sst = np.square(yt - y_mean)\n",
    "    sum_ssr += ssr\n",
    "    sum_sst += sst\n",
    "    \n",
    "r2 = 1 - (sum_ssr / sum_sst)\n",
    "print(\"R Square: \", r2)"
   ]
  },
  {
   "cell_type": "markdown",
   "id": "c4b1baad",
   "metadata": {},
   "source": [
    "# Post-Test\n",
    "\n",
    "1. Jelaskan konsep dasar regresi linier. Bagaimana model regresi linier merepresentasikan hubungan antara variabel independen dan dependen? Berikan contoh sederhana untuk menggambarkannya.\n",
    "\n",
    "1. Diskusikan asumsi-asumsi yang mendasari regresi linier. Mengapa penting untuk memeriksa asumsi-asumsi ini sebelum menginterpretasikan hasil analisis regresi? Berikan wawasan tentang konsekuensi potensial dari pelanggaran asumsi-asumsi ini.\n",
    "\n",
    "1. Mengeksplorasi metrik yang umum digunakan untuk mengevaluasi kinerja model regresi linier. Diskusikan pentingnya metrik seperti Mean Squared Error (MSE) dan $R^2$ dalam menilai kesesuaian model. Berikan contoh untuk mengilustrasikan penerapannya."
   ]
  }
 ],
 "metadata": {
  "kernelspec": {
   "display_name": "Python 3 (ipykernel)",
   "language": "python",
   "name": "python3"
  },
  "language_info": {
   "codemirror_mode": {
    "name": "ipython",
    "version": 3
   },
   "file_extension": ".py",
   "mimetype": "text/x-python",
   "name": "python",
   "nbconvert_exporter": "python",
   "pygments_lexer": "ipython3",
   "version": "3.9.0"
  }
 },
 "nbformat": 4,
 "nbformat_minor": 5
}
