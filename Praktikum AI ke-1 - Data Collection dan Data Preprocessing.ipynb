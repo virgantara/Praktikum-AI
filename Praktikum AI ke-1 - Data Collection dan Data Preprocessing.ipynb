{
 "cells": [
  {
   "cell_type": "markdown",
   "id": "6689e0bd",
   "metadata": {},
   "source": [
    "# Praktikum 1 Mata Kuliah Kecerdasan Buatan tentang Data Collection dan Data Preprocessing"
   ]
  },
  {
   "cell_type": "markdown",
   "id": "fa8e4ec9",
   "metadata": {},
   "source": [
    "## Sekilas tentang Data Collection atau Pengumpulan data\n",
    "\n",
    "Fase pengumpulan data adalah salah satu tahap kritis dalam proses penelitian, dimana keberhasilannya memainkan peran penting dalam pembentukan temuan dan hasil penelitian. Pengumpulan data melibatkan proses menghimpun informasi dari berbagai sumber untuk merespons pertanyaan penelitian, menyelesaikan masalah penelitian yang dihadapi, dan mengevaluasi hasil penelitian tersebut.\n",
    "\n",
    "Dalam konteks pengumpulan data, terdapat dua jenis sumber utama yang digunakan, yaitu data primer dan sekunder. Data primer diperoleh langsung dari sumber pertama melalui metode observasi, kuesioner, pengukuran, survei, atau eksperimen. Keunikan data primer adalah bahwa informasi yang dikumpulkan dihasilkan secara langsung oleh peneliti, memberikan kontrol langsung terhadap proses pengumpulan data.\n",
    "\n",
    "Sementara itu, data sekunder merujuk pada penggunaan data yang telah ada dan diperoleh dari sumber yang sudah ada, seperti penelitian sebelumnya, basis data, atau sumber data publik lainnya. Penggunaan data sekunder dapat memberikan konteks yang lebih luas atau memperkaya penelitian dengan menyertakan informasi yang telah dikumpulkan oleh pihak lain.\n",
    "\n",
    "Penting untuk memilih sumber data yang sesuai dengan tujuan penelitian dan mempertimbangkan keakuratan serta reliabilitasnya. Selain itu, proses pengumpulan data juga harus memperhatikan aspek etika untuk memastikan bahwa data diperoleh dengan cara yang benar dan adil. Dengan merinci sumber dan jenis data yang digunakan, peneliti dapat memastikan bahwa data yang dianalisis memiliki kualitas yang memadai untuk mendukung analisis dan interpretasi yang akurat. \n",
    "\n",
    "Di praktikum ini, kita menggunakan data sekunder yang diambil dari https://www.kaggle.com/datasets/abhishek14398/salary-dataset-simple-linear-regression/data. Data ini digunakan untuk studi kasus regresi linier. "
   ]
  },
  {
   "cell_type": "markdown",
   "id": "25da9425",
   "metadata": {},
   "source": [
    "Di sini, kita menggunakan dua library python, yaitu Numpy dan Pandas"
   ]
  },
  {
   "cell_type": "markdown",
   "id": "6d8fc024",
   "metadata": {},
   "source": [
    "## Numpy\n",
    "NumPy (Numerical Python) merupakan salah satu perpustakaan yang sangat penting dalam ekosistem Python, dirancang khusus untuk melakukan operasi numerik dan matematika secara efisien. Dengan menghadirkan struktur data array yang disebut ndarray, NumPy memungkinkan pengguna untuk dengan mudah memanipulasi dan menganalisis data dalam bentuk matriks multi-dimensi. Kelebihan utama NumPy terletak pada kinerja tinggi dan efisiensi operasinya, membuatnya menjadi pilihan utama dalam pengolahan data numerik untuk ilmu data, pemodelan matematika, dan pengembangan algoritma.\n",
    "\n",
    "Salah satu fitur kunci dari NumPy adalah mampu menangani operasi pada array besar dengan kecepatan tinggi, terutama karena implementasi inti NumPy dilakukan dalam bahasa pemrograman C. Dengan adanya ndarray, pengguna dapat melakukan operasi matematika element-wise, pemotongan (slicing), dan manipulasi array dengan sangat cepat dan mudah. Ini sangat penting ketika bekerja dengan data besar atau melakukan komputasi numerik yang kompleks.\n",
    "\n",
    "NumPy juga menawarkan beragam fungsi matematika yang siap pakai, seperti fungsi trigonometri, eksponensial, logaritmik, dan statistik. Fungsi-fungsi ini mempermudah pengguna dalam melakukan berbagai jenis perhitungan matematika tanpa perlu mengimplementasikannya dari awal.\n",
    "\n",
    "Dengan demikian, NumPy bukan hanya sebuah perpustakaan, tetapi merupakan fondasi yang kuat untuk berbagai kebutuhan ilmu data dan komputasi ilmiah dalam Python. Kemampuannya dalam mengelola dan memproses data numerik secara efisien menjadikannya alat yang tak tergantikan dalam pengembangan model matematika, simulasi, dan analisis data besar dalam lingkungan Python. Kesinambungan pengembangan dan dukungan komunitas yang luas menjadikan NumPy sebagai pilihan utama bagi para ilmuwan data dan peneliti di berbagai disiplin ilmu."
   ]
  },
  {
   "cell_type": "markdown",
   "id": "7c22c9a0",
   "metadata": {},
   "source": [
    "## Pandas\n",
    "\n",
    "Pandas adalah library python yang digunakan untuk manipulasi dan analisis data. Pandas menyediakan struktur data yang mudah digunakan, seperti DataFrame dan Series, serta berbagai fungsi untuk memanipulasi dan menganalisis data terstruktur. Pandas sangat cocok untuk data tabular dan deret waktu."
   ]
  },
  {
   "cell_type": "markdown",
   "id": "2c4484cc",
   "metadata": {},
   "source": [
    "## Data Loading\n",
    "\n",
    "Di sini, kita akan load data dengan menggunakan fitur dari pandas. "
   ]
  },
  {
   "cell_type": "code",
   "execution_count": 1,
   "id": "da8fe0e0",
   "metadata": {},
   "outputs": [],
   "source": [
    "import pandas as pd # data processing, CSV file I/O (e.g. pd.read_csv)"
   ]
  },
  {
   "cell_type": "code",
   "execution_count": 2,
   "id": "c5a96fd7",
   "metadata": {},
   "outputs": [],
   "source": [
    "df = pd.read_csv(\"dataset/Salary_dataset.csv\")"
   ]
  },
  {
   "cell_type": "markdown",
   "id": "96a197ca",
   "metadata": {},
   "source": [
    "Dikarenakan data yang digunakan berbasis file csv, maka kita menggunakan fungsi ```read_csv``` dari pandas.\n",
    "Untuk menampilkan isi dari dataset, bisa menggunakan perintah ```print(df)```"
   ]
  },
  {
   "cell_type": "code",
   "execution_count": 3,
   "id": "ef267d4b",
   "metadata": {},
   "outputs": [
    {
     "name": "stdout",
     "output_type": "stream",
     "text": [
      "    Unnamed: 0  YearsExperience    Salary\n",
      "0            0              1.2   39344.0\n",
      "1            1              1.4   46206.0\n",
      "2            2              1.6   37732.0\n",
      "3            3              2.1   43526.0\n",
      "4            4              2.3   39892.0\n",
      "5            5              3.0   56643.0\n",
      "6            6              3.1   60151.0\n",
      "7            7              3.3   54446.0\n",
      "8            8              3.3   64446.0\n",
      "9            9              3.8   57190.0\n",
      "10          10              4.0   63219.0\n",
      "11          11              4.1   55795.0\n",
      "12          12              4.1   56958.0\n",
      "13          13              4.2   57082.0\n",
      "14          14              4.6   61112.0\n",
      "15          15              5.0   67939.0\n",
      "16          16              5.2   66030.0\n",
      "17          17              5.4   83089.0\n",
      "18          18              6.0   81364.0\n",
      "19          19              6.1   93941.0\n",
      "20          20              6.9   91739.0\n",
      "21          21              7.2   98274.0\n",
      "22          22              8.0  101303.0\n",
      "23          23              8.3  113813.0\n",
      "24          24              8.8  109432.0\n",
      "25          25              9.1  105583.0\n",
      "26          26              9.6  116970.0\n",
      "27          27              9.7  112636.0\n",
      "28          28             10.4  122392.0\n",
      "29          29             10.6  121873.0\n"
     ]
    }
   ],
   "source": [
    "print(df)"
   ]
  },
  {
   "cell_type": "markdown",
   "id": "cd6007a0",
   "metadata": {},
   "source": [
    "Adapun untuk mengetahui dimensi dari dataset, kita bisa menggunakan perintah ```print(df.shape)```"
   ]
  },
  {
   "cell_type": "code",
   "execution_count": 4,
   "id": "324013c1",
   "metadata": {},
   "outputs": [
    {
     "name": "stdout",
     "output_type": "stream",
     "text": [
      "(30, 3)\n"
     ]
    }
   ],
   "source": [
    "print(df.shape)"
   ]
  },
  {
   "cell_type": "markdown",
   "id": "ea7faa1d",
   "metadata": {},
   "source": [
    "Output dari ```df.shape``` sebelumnya adalah (30, 3). Maksud dari angka tersebut adalah bahwa data ini terdiri atas dua dimensi, yaitu baris dan kolom saja. Angka 30 merepresentasikan jumlah dari baris data, sedangkan 3 adalah jumlah kolom keseluruhan dari data. \n",
    "Selain fungsi ```df.shape```, kita juga bisa menggunakan fungsi lain dari pandas seperti:\n",
    "1. ```df.dtypes``` yang digunakan untuk mengetahui tipe data dari tiap kolom\n",
    "1. ```df.columns``` yang berfungsi untuk mengetahui daftar kolom yang tersedia\n",
    "1. ```df.info()``` yang digunakan untuk menampilkan informasi terkait dataset\n",
    "\n",
    "Adapun untuk dari masing-masing fungsi tersebut adalah:"
   ]
  },
  {
   "cell_type": "code",
   "execution_count": 5,
   "id": "39a18b81",
   "metadata": {},
   "outputs": [
    {
     "name": "stdout",
     "output_type": "stream",
     "text": [
      "Unnamed: 0           int64\n",
      "YearsExperience    float64\n",
      "Salary             float64\n",
      "dtype: object\n"
     ]
    }
   ],
   "source": [
    "print(df.dtypes)"
   ]
  },
  {
   "cell_type": "code",
   "execution_count": 6,
   "id": "5dd53f43",
   "metadata": {},
   "outputs": [
    {
     "name": "stdout",
     "output_type": "stream",
     "text": [
      "Index(['Unnamed: 0', 'YearsExperience', 'Salary'], dtype='object')\n"
     ]
    }
   ],
   "source": [
    "print(df.columns)"
   ]
  },
  {
   "cell_type": "code",
   "execution_count": 7,
   "id": "b96ca7d6",
   "metadata": {},
   "outputs": [
    {
     "name": "stdout",
     "output_type": "stream",
     "text": [
      "<class 'pandas.core.frame.DataFrame'>\n",
      "RangeIndex: 30 entries, 0 to 29\n",
      "Data columns (total 3 columns):\n",
      " #   Column           Non-Null Count  Dtype  \n",
      "---  ------           --------------  -----  \n",
      " 0   Unnamed: 0       30 non-null     int64  \n",
      " 1   YearsExperience  30 non-null     float64\n",
      " 2   Salary           30 non-null     float64\n",
      "dtypes: float64(2), int64(1)\n",
      "memory usage: 848.0 bytes\n",
      "None\n"
     ]
    }
   ],
   "source": [
    "print(df.info())"
   ]
  },
  {
   "cell_type": "markdown",
   "id": "2f50d832",
   "metadata": {},
   "source": [
    "# Data preprocessing\n",
    "\n",
    "Kualitas dan seberapa baik data dipersiapkan dapat secara signifikan memengaruhi kinerja model. Cara yang bisa dilakukan untuk menyiapkan data adalah dengan data preprocessing. Data preprocessing atau prapemrosesan data adalah langkah penting dalam sains data yang melibatkan pembersihan dan transformasi data mentah ke dalam format yang sesuai untuk analisis atau pemodelan. Tugas prapemrosesan data dapat bervariasi berdasarkan sifat data. Beberapa langkah preprocessing data yang umum meliputi:\n",
    "1. Mengatasi data yang hilang\n",
    "1. Mereduksi data duplikat\n",
    "1. Membersihkan data yang kurang penting\n",
    "1. Transformasi data\n",
    "1. Data scaling\n",
    "Dengan melibatkan langkah-langkah ini, data preprocessing membantu memastikan bahwa data yang digunakan dalam analisis atau pemodelan memiliki kualitas yang optimal, menghasilkan model yang lebih dapat diandalkan dan generalis. Kreativitas dan pengetahuan domain sering kali diperlukan dalam menyesuaikan langkah-langkah ini dengan karakteristik unik dari setiap dataset. \n",
    "\n",
    "Dalam melakukan prapemrosesan data, penting untuk memahami bahwa tidak semua langkah prapemrosesan harus diterapkan secara seragam pada setiap dataset. Sebaliknya, peneliti atau praktisi data science harus selektif dalam memilih langkah-langkah yang paling relevan dan bermanfaat untuk kasus atau masalah tertentu yang sedang dihadapi. Sebagai contoh, dalam suatu dataset tertentu, fokus prapemrosesan data mungkin difokuskan pada kolom-kolom tertentu yang memiliki dampak signifikan terhadap hasil analisis atau pemodelan.\n",
    "\n",
    "Misalnya, dalam suatu dataset yang berisi berbagai atribut, namun hanya dua atribut, yaitu \"YearsExperience\" dan \"Salary,\" yang relevan dalam konteks permasalahan yang akan diselesaikan. Oleh karena itu, dapat dilakukan pemilihan fitur untuk membuang atribut-atribut yang tidak memberikan kontribusi signifikan atau relevan terhadap variabel target, dalam hal ini, mungkin \"Salary.\"\n",
    "\n",
    "Pemilihan fitur tersebut membawa manfaat ganda. Pertama, ini dapat mengurangi dimensi dataset, sehingga mengurangi kompleksitas analisis atau pemodelan dan meningkatkan efisiensi komputasi. Kedua, dengan hanya mempertahankan atribut yang paling relevan, prapemrosesan data dapat difokuskan pada kolom-kolom kunci tersebut, termasuk penanganan nilai yang hilang, pembersihan data, atau transformasi khusus yang diperlukan.\n",
    "\n",
    "Langkah-langkah prapemrosesan yang diambil harus sejalan dengan tujuan analisis atau pemodelan yang akan dilakukan, dan seleksi fitur menjadi salah satu aspek kritis dalam proses tersebut. Pendekatan ini memungkinkan peneliti untuk lebih terfokus pada aspek-aspek data yang memiliki dampak langsung terhadap solusi permasalahan yang dihadapi, sambil menghindari kompleksitas yang tidak perlu dari aspek-aspek yang kurang relevan. Dengan demikian, prapemrosesan data yang bijak dapat meningkatkan efisiensi, interpretabilitas, dan keberlanjutan dari solusi data science yang diterapkan.. Untuk menghilangkan kolom Unnamed, kita bisa menggunakan perintah:"
   ]
  },
  {
   "cell_type": "code",
   "execution_count": 8,
   "id": "76c13998",
   "metadata": {},
   "outputs": [],
   "source": [
    "df.drop(['Unnamed: 0'],axis=1,inplace=True)"
   ]
  },
  {
   "cell_type": "code",
   "execution_count": 9,
   "id": "61cf2a8c",
   "metadata": {},
   "outputs": [
    {
     "name": "stdout",
     "output_type": "stream",
     "text": [
      "    YearsExperience    Salary\n",
      "0               1.2   39344.0\n",
      "1               1.4   46206.0\n",
      "2               1.6   37732.0\n",
      "3               2.1   43526.0\n",
      "4               2.3   39892.0\n",
      "5               3.0   56643.0\n",
      "6               3.1   60151.0\n",
      "7               3.3   54446.0\n",
      "8               3.3   64446.0\n",
      "9               3.8   57190.0\n",
      "10              4.0   63219.0\n",
      "11              4.1   55795.0\n",
      "12              4.1   56958.0\n",
      "13              4.2   57082.0\n",
      "14              4.6   61112.0\n",
      "15              5.0   67939.0\n",
      "16              5.2   66030.0\n",
      "17              5.4   83089.0\n",
      "18              6.0   81364.0\n",
      "19              6.1   93941.0\n",
      "20              6.9   91739.0\n",
      "21              7.2   98274.0\n",
      "22              8.0  101303.0\n",
      "23              8.3  113813.0\n",
      "24              8.8  109432.0\n",
      "25              9.1  105583.0\n",
      "26              9.6  116970.0\n",
      "27              9.7  112636.0\n",
      "28             10.4  122392.0\n",
      "29             10.6  121873.0\n"
     ]
    }
   ],
   "source": [
    "print(df)"
   ]
  },
  {
   "cell_type": "markdown",
   "id": "e659ec72",
   "metadata": {},
   "source": [
    "Untuk mengetahui hubungan antar kolom (korelasi), kita bisa menggunakan perintah ```df.corr()```"
   ]
  },
  {
   "cell_type": "code",
   "execution_count": 10,
   "id": "a1ba515d",
   "metadata": {},
   "outputs": [
    {
     "data": {
      "text/html": [
       "<div>\n",
       "<style scoped>\n",
       "    .dataframe tbody tr th:only-of-type {\n",
       "        vertical-align: middle;\n",
       "    }\n",
       "\n",
       "    .dataframe tbody tr th {\n",
       "        vertical-align: top;\n",
       "    }\n",
       "\n",
       "    .dataframe thead th {\n",
       "        text-align: right;\n",
       "    }\n",
       "</style>\n",
       "<table border=\"1\" class=\"dataframe\">\n",
       "  <thead>\n",
       "    <tr style=\"text-align: right;\">\n",
       "      <th></th>\n",
       "      <th>YearsExperience</th>\n",
       "      <th>Salary</th>\n",
       "    </tr>\n",
       "  </thead>\n",
       "  <tbody>\n",
       "    <tr>\n",
       "      <th>YearsExperience</th>\n",
       "      <td>1.000000</td>\n",
       "      <td>0.978242</td>\n",
       "    </tr>\n",
       "    <tr>\n",
       "      <th>Salary</th>\n",
       "      <td>0.978242</td>\n",
       "      <td>1.000000</td>\n",
       "    </tr>\n",
       "  </tbody>\n",
       "</table>\n",
       "</div>"
      ],
      "text/plain": [
       "                 YearsExperience    Salary\n",
       "YearsExperience         1.000000  0.978242\n",
       "Salary                  0.978242  1.000000"
      ]
     },
     "execution_count": 10,
     "metadata": {},
     "output_type": "execute_result"
    }
   ],
   "source": [
    "df.corr()"
   ]
  },
  {
   "cell_type": "markdown",
   "id": "ee1e428c",
   "metadata": {},
   "source": [
    "Analisis korelasi merupakan suatu pendekatan statistik yang penting untuk memahami hubungan antara variabel-variabel dalam suatu dataset. Ketika melihat hasil angka pada koefisien korelasi, semakin mendekati angka 1, ini mengindikasikan bahwa korelasi antara dua variabel tersebut semakin erat. Korelasi ini dapat memiliki arah positif atau negatif, dan interpretasinya menjadi kunci dalam memahami dinamika hubungan antar variabel tersebut.\n",
    "\n",
    "Korelasi positif, yang mencapai nilai mendekati 1, menunjukkan bahwa kedua variabel bergerak bersamaan atau berbanding lurus. Sebagai contoh, ketika nilai suatu variabel (misalnya, variabel x) meningkat, nilai variabel lainnya (misalnya, variabel y) cenderung juga meningkat. Dengan kata lain, ada kecenderungan bahwa perubahan dalam satu variabel akan diikuti oleh perubahan serupa dalam variabel lainnya.\n",
    "\n",
    "Di sisi lain, korelasi negatif, yang mendekati nilai -1, menggambarkan hubungan berbanding terbalik antara dua variabel. Dalam skenario ini, ketika nilai suatu variabel meningkat, nilai variabel lainnya cenderung menurun. Contoh klasik adalah jika variabel x menunjukkan peningkatan jumlah jam belajar, dan variabel y menunjukkan penurunan nilai ujian, ini mencerminkan korelasi negatif karena adanya kecenderungan bahwa semakin banyak waktu belajar, semakin rendah nilai ujian.\n",
    "\n",
    "Mengetahui arah korelasi sangat penting untuk membuat interpretasi yang akurat dan pengambilan keputusan yang tepat. Ini membantu dalam merinci sejauh mana dua variabel berkaitan dan memberikan wawasan mengenai bagaimana perubahan dalam satu variabel dapat mempengaruhi variabel lainnya. Dengan pemahaman yang baik tentang korelasi, analisis statistik dapat menjadi alat yang sangat berguna dalam merinci dinamika kompleks antara variabel-variabel dalam konteks penelitian atau analisis data.\n",
    "\n",
    "# Visualisasi Data\n",
    "\n",
    "Dalam melakukan visualisasi data, keberadaan alat yang memungkinkan representasi grafis dari informasi menjadi krusial untuk memahami pola, tren, dan hubungan dalam dataset. Salah satu perpustakaan yang sangat populer dan powerful dalam ekosistem Python untuk keperluan ini adalah Matplotlib. Matplotlib menawarkan berbagai fungsi dan alat untuk membuat visualisasi data baik dalam format 2D maupun 3D, sehingga memudahkan para ilmuwan data dan peneliti untuk mengkomunikasikan temuan mereka dengan cara yang lebih intuitif.\n",
    "\n",
    "Fungsi dasar Matplotlib memungkinkan pengguna untuk membuat plot sederhana hingga plot yang sangat kustom dan kompleks. Plot 2D dapat mencakup diagram batang, garis, scatter plot, dan banyak lagi, sementara plot 3D dapat digunakan untuk memvisualisasikan data dalam ruang tiga dimensi, menawarkan pandangan yang lebih mendalam tentang struktur dan hubungan antar variabel.\n",
    "\n",
    "Matplotlib dapat diintegrasikan dengan baik dengan NumPy dan Pandas, memungkinkan pengguna untuk langsung memvisualisasikan data dari array atau DataFrame. Pilihan warna, gaya garis, dan label sumbu dapat disesuaikan dengan kebutuhan, memberikan tingkat kontrol yang tinggi terhadap estetika dan informasi yang ingin disampaikan melalui plot.\n",
    "\n",
    "Selain itu, Matplotlib memiliki antarmuka yang mirip dengan MATLAB, membuatnya mudah dipahami oleh mereka yang telah terbiasa dengan lingkungan pemrograman atau perangkat lunak tersebut. Selain fitur dasar, Matplotlib juga memiliki modul tambahan seperti Seaborn yang menyediakan tema dan plot yang lebih menarik secara default.\n",
    "\n",
    "Dengan bantuan Matplotlib, para peneliti dapat menciptakan visualisasi data yang informatif dan menarik, mengubah angka-angka dan statistik menjadi gambar yang dapat digunakan untuk menjelaskan konsep kompleks atau menyajikan temuan dengan cara yang lebih persuasif kepada pemirsa. Sebagai alat yang sangat fleksibel dan dapat disesuaikan, Matplotlib tetap menjadi salah satu alat utama dalam toolkit ilmu data dan visualisasi informasi."
   ]
  },
  {
   "cell_type": "code",
   "execution_count": 11,
   "id": "de45db23",
   "metadata": {},
   "outputs": [],
   "source": [
    "import matplotlib.pyplot as plt"
   ]
  },
  {
   "cell_type": "code",
   "execution_count": 12,
   "id": "8136a305",
   "metadata": {},
   "outputs": [
    {
     "data": {
      "image/png": "[encoded data removed]",
      "text/plain": [
       "<Figure size 640x480 with 1 Axes>"
      ]
     },
     "metadata": {},
     "output_type": "display_data"
    }
   ],
   "source": [
    "plt.scatter(df.YearsExperience,df.Salary,color=\"g\",marker=\"*\")\n",
    "plt.xlabel(\"Years of Experience\")\n",
    "plt.ylabel(\"Salary\")\n",
    "plt.title(\"\")\n",
    "plt.show()"
   ]
  },
  {
   "cell_type": "markdown",
   "id": "ae78e4d7",
   "metadata": {},
   "source": [
    "# Data Scaling\n",
    "\n",
    "Data scaling atau penskalaan data adalah teknik prapemrosesan yang digunakan dalam pembelajaran mesin untuk menstandarkan rentang variabel independen atau fitur data. Tujuan dari penskalaan data adalah untuk memastikan bahwa semua fitur memiliki skala yang sama, mencegah beberapa fitur mendominasi fitur lainnya selama pelatihan model pembelajaran mesin.\n",
    "\n",
    "Dalam banyak algoritma machine learning, skala fitur dapat memengaruhi kinerja model. Beberapa algoritma, seperti algoritma pengoptimalan berbasis gradien (misalnya, gradient descent), sensitif terhadap skala fitur input. Jika fitur-fitur berada pada skala yang berbeda, algoritme akan membutuhkan waktu lebih lama untuk mencapai konvergensi, atau mungkin akan menghasilkan solusi yang kurang optimal."
   ]
  },
  {
   "cell_type": "code",
   "execution_count": 13,
   "id": "0f8ad9a9",
   "metadata": {},
   "outputs": [],
   "source": [
    "def scale(X):\n",
    "    X_std = (X - min(X)) / (max(X) - min(X))\n",
    "    return X_std"
   ]
  },
  {
   "cell_type": "code",
   "execution_count": 14,
   "id": "9f6dffa8",
   "metadata": {},
   "outputs": [],
   "source": [
    "X = df.YearsExperience\n",
    "y = df.Salary"
   ]
  },
  {
   "cell_type": "code",
   "execution_count": 15,
   "id": "0701366d",
   "metadata": {},
   "outputs": [],
   "source": [
    "x_scaled = scale(X)\n",
    "y_scaled = scale(y)"
   ]
  },
  {
   "cell_type": "code",
   "execution_count": 16,
   "id": "4a25d7a3",
   "metadata": {},
   "outputs": [
    {
     "data": {
      "image/png": "[encoded data removed]",
      "text/plain": [
       "<Figure size 640x480 with 1 Axes>"
      ]
     },
     "metadata": {},
     "output_type": "display_data"
    }
   ],
   "source": [
    "plt.scatter(x_scaled,y_scaled,color=\"g\",marker=\"*\")\n",
    "plt.xlabel(\"Years of Experience\")\n",
    "plt.ylabel(\"Salary\")\n",
    "plt.title(\"\")\n",
    "plt.show()"
   ]
  },
  {
   "cell_type": "markdown",
   "id": "ee7cc2ae",
   "metadata": {},
   "source": [
    "Penting untuk memahami dan memerhatikan perbedaan skala pada plot sebelum dan sesudah melakukan data scaling. Data scaling, seperti yang diindikasikan, bertujuan untuk menyamakan skala dari variabel-variabel yang mungkin memiliki rentang nilai yang berbeda. Melihat perubahan skala pada plot dapat memberikan wawasan yang berharga tentang pengaruh dari proses ini terhadap distribusi data.\n",
    "\n",
    "Sebelum melakukan data scaling, plot mungkin menunjukkan bahwa variabel \"Years of Experience\" memiliki nilai paling bawah sekitar 1.2 dan nilai paling atas sekitar 10.6. Setelah proses data scaling, rentang nilai untuk variabel ini disesuaikan menjadi 0 hingga 1. Hal yang serupa terjadi pada variabel \"Salary,\" yang skala nilai bawahnya telah disetel ke 0, sedangkan nilai atasnya menjadi 1 setelah melalui proses scaling.\n",
    "\n",
    "Meskipun kedua variabel mengalami perubahan skala, distribusi dari keduanya tetap berada pada rentang yang sama, yaitu 0 hingga 1. Artinya, proporsi relatif antara nilai-nilai yang berbeda tetap terjaga, hanya saja skala absolutnya berubah. Proses scaling ini membantu dalam mengatasi masalah skala yang tidak seragam antar variabel, yang dapat memengaruhi performa model machine learning, terutama pada algoritma-algoritma yang sensitif terhadap skala seperti regresi linear atau k-nearest neighbors.\n",
    "\n",
    "Dengan distribusi yang sudah disamakan pada rentang yang sama, interpretasi dan analisis data menjadi lebih mudah dan lebih konsisten. Hal ini terutama berlaku jika terdapat variabel lain dalam dataset yang memiliki skala nilai yang jauh berbeda. Dengan demikian, perhatikan bahwa meskipun nilai absolut pada skala berubah, esensi dari data tetap terjaga, dan perbandingan relatif antar variabel masih dapat diterjemahkan dengan akurat."
   ]
  },
  {
   "cell_type": "markdown",
   "id": "df18d3a7",
   "metadata": {},
   "source": [
    "# Post-Test\n",
    "1. Diskusikan pentingnya memilih sumber data yang tepat. Pertimbangan apa saja yang harus diperhatikan saat mengumpulkan data, dan bagaimana kualitas data yang dikumpulkan dapat memengaruhi kinerja model dari AI?\n",
    "1. Jelaskan pentingnya prapemrosesan data dalam konteks pembelajaran mesin. Diskusikan tantangan dan masalah umum yang muncul dalam set data mentah dan jelaskan bagaimana teknik prapemrosesan berkontribusi pada keberhasilan model pembelajaran mesin secara keseluruhan."
   ]
  }
 ],
 "metadata": {
  "kernelspec": {
   "display_name": "Python 3 (ipykernel)",
   "language": "python",
   "name": "python3"
  },
  "language_info": {
   "codemirror_mode": {
    "name": "ipython",
    "version": 3
   },
   "file_extension": ".py",
   "mimetype": "text/x-python",
   "name": "python",
   "nbconvert_exporter": "python",
   "pygments_lexer": "ipython3",
   "version": "3.9.0"
  }
 },
 "nbformat": 4,
 "nbformat_minor": 5
}
